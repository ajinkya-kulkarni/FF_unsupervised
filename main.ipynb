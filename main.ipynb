{
 "cells": [
  {
   "cell_type": "code",
   "execution_count": null,
   "outputs": [],
   "source": [
    "!git clone https://github.com/ghadialhajj/FF_unsupervised.git foo; mv foo/* foo/.git* .; rmdir -r foo/*"
   ],
   "metadata": {
    "collapsed": false
   }
  },
  {
   "cell_type": "code",
   "execution_count": null,
   "outputs": [],
   "source": [
    "from main import Unsupervised_FF, train, plot_loss\n",
    "import torch, torchvision\n",
    "from torch.utils.data import DataLoader\n",
    "from utils import prepare_data"
   ],
   "metadata": {
    "collapsed": false
   }
  },
  {
   "cell_type": "code",
   "execution_count": null,
   "outputs": [],
   "source": [
    "prepare_data()\n",
    "\n",
    "# Load the MNIST dataset\n",
    "transform = torchvision.transforms.Compose([\n",
    "    torchvision.transforms.ToTensor()\n",
    "])\n",
    "pos_dataset = torchvision.datasets.MNIST(root='train_data/', download=True, transform=transform)\n",
    "# Create the data loader\n",
    "pos_dataloader = DataLoader(pos_dataset, batch_size=64, shuffle=True, num_workers=4)\n",
    "\n",
    "# Load the transformed images\n",
    "neg_dataset = torch.load('transformed_dataset.pt')\n",
    "# Create the data loader\n",
    "neg_dataloader = DataLoader(neg_dataset, batch_size=64, shuffle=True, num_workers=4)\n",
    "\n",
    "# Load the test images\n",
    "test_dataset = torchvision.datasets.MNIST(root='test_data/', train=False, download=True, transform=transform)\n",
    "# Create the data loader\n",
    "test_dataloader = DataLoader(test_dataset, batch_size=64, shuffle=True, num_workers=4)"
   ],
   "metadata": {
    "collapsed": false
   }
  },
  {
   "cell_type": "code",
   "execution_count": null,
   "outputs": [],
   "source": [
    "device = torch.device(\"cuda:0\")\n",
    "unsupervised_ff = Unsupervised_FF(device=device, n_epochs=100)\n",
    "\n",
    "loss = train(unsupervised_ff, pos_dataloader, neg_dataloader)"
   ],
   "metadata": {
    "collapsed": false
   }
  },
  {
   "cell_type": "code",
   "execution_count": null,
   "outputs": [],
   "source": [
    "plot_loss(loss)"
   ],
   "metadata": {
    "collapsed": false
   }
  },
  {
   "cell_type": "code",
   "execution_count": null,
   "outputs": [],
   "source": [
    "unsupervised_ff.evaluate(pos_dataloader, dataset_type=\"Train\")\n",
    "unsupervised_ff.evaluate(test_dataloader, dataset_type=\"Test\")"
   ],
   "metadata": {
    "collapsed": false
   }
  }
 ],
 "metadata": {
  "kernelspec": {
   "display_name": "Python 3",
   "language": "python",
   "name": "python3"
  },
  "language_info": {
   "codemirror_mode": {
    "name": "ipython",
    "version": 2
   },
   "file_extension": ".py",
   "mimetype": "text/x-python",
   "name": "python",
   "nbconvert_exporter": "python",
   "pygments_lexer": "ipython2",
   "version": "2.7.6"
  }
 },
 "nbformat": 4,
 "nbformat_minor": 0
}
